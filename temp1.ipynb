{
 "cells": [
  {
   "cell_type": "code",
   "execution_count": 1,
   "id": "magnetic-works",
   "metadata": {},
   "outputs": [],
   "source": [
    "import pandas as pd\n",
    "import random"
   ]
  },
  {
   "cell_type": "code",
   "execution_count": 2,
   "id": "strange-tablet",
   "metadata": {},
   "outputs": [],
   "source": [
    "day_df = pd.read_csv('day_0_10', sep = '\\t', header = None)"
   ]
  },
  {
   "cell_type": "code",
   "execution_count": 3,
   "id": "median-convert",
   "metadata": {},
   "outputs": [
    {
     "data": {
      "text/html": [
       "<div>\n",
       "<style scoped>\n",
       "    .dataframe tbody tr th:only-of-type {\n",
       "        vertical-align: middle;\n",
       "    }\n",
       "\n",
       "    .dataframe tbody tr th {\n",
       "        vertical-align: top;\n",
       "    }\n",
       "\n",
       "    .dataframe thead th {\n",
       "        text-align: right;\n",
       "    }\n",
       "</style>\n",
       "<table border=\"1\" class=\"dataframe\">\n",
       "  <thead>\n",
       "    <tr style=\"text-align: right;\">\n",
       "      <th></th>\n",
       "      <th>0</th>\n",
       "      <th>1</th>\n",
       "      <th>2</th>\n",
       "      <th>3</th>\n",
       "      <th>4</th>\n",
       "      <th>5</th>\n",
       "      <th>6</th>\n",
       "      <th>7</th>\n",
       "      <th>8</th>\n",
       "      <th>9</th>\n",
       "      <th>...</th>\n",
       "      <th>30</th>\n",
       "      <th>31</th>\n",
       "      <th>32</th>\n",
       "      <th>33</th>\n",
       "      <th>34</th>\n",
       "      <th>35</th>\n",
       "      <th>36</th>\n",
       "      <th>37</th>\n",
       "      <th>38</th>\n",
       "      <th>39</th>\n",
       "    </tr>\n",
       "  </thead>\n",
       "  <tbody>\n",
       "    <tr>\n",
       "      <th>0</th>\n",
       "      <td>1</td>\n",
       "      <td>5.0</td>\n",
       "      <td>110.0</td>\n",
       "      <td>NaN</td>\n",
       "      <td>16.0</td>\n",
       "      <td>NaN</td>\n",
       "      <td>1.0</td>\n",
       "      <td>0.0</td>\n",
       "      <td>14</td>\n",
       "      <td>7</td>\n",
       "      <td>...</td>\n",
       "      <td>d20856aa</td>\n",
       "      <td>b8170bba</td>\n",
       "      <td>9512c20b</td>\n",
       "      <td>c38e2f28</td>\n",
       "      <td>14f65a5d</td>\n",
       "      <td>25b1b089</td>\n",
       "      <td>d7c1fc0b</td>\n",
       "      <td>7caf609c</td>\n",
       "      <td>30436bfc</td>\n",
       "      <td>ed10571d</td>\n",
       "    </tr>\n",
       "    <tr>\n",
       "      <th>1</th>\n",
       "      <td>0</td>\n",
       "      <td>32.0</td>\n",
       "      <td>3.0</td>\n",
       "      <td>5.0</td>\n",
       "      <td>NaN</td>\n",
       "      <td>1.0</td>\n",
       "      <td>0.0</td>\n",
       "      <td>0.0</td>\n",
       "      <td>61</td>\n",
       "      <td>5</td>\n",
       "      <td>...</td>\n",
       "      <td>d20856aa</td>\n",
       "      <td>a1eb1511</td>\n",
       "      <td>9512c20b</td>\n",
       "      <td>febfd863</td>\n",
       "      <td>a3323ca1</td>\n",
       "      <td>c8e1ee56</td>\n",
       "      <td>1752e9e8</td>\n",
       "      <td>75350c8a</td>\n",
       "      <td>991321ea</td>\n",
       "      <td>b757e957</td>\n",
       "    </tr>\n",
       "    <tr>\n",
       "      <th>2</th>\n",
       "      <td>0</td>\n",
       "      <td>NaN</td>\n",
       "      <td>233.0</td>\n",
       "      <td>1.0</td>\n",
       "      <td>146.0</td>\n",
       "      <td>1.0</td>\n",
       "      <td>0.0</td>\n",
       "      <td>0.0</td>\n",
       "      <td>99</td>\n",
       "      <td>7</td>\n",
       "      <td>...</td>\n",
       "      <td>d20856aa</td>\n",
       "      <td>628f1b8d</td>\n",
       "      <td>9512c20b</td>\n",
       "      <td>c38e2f28</td>\n",
       "      <td>14f65a5d</td>\n",
       "      <td>25b1b089</td>\n",
       "      <td>d7c1fc0b</td>\n",
       "      <td>34a9b905</td>\n",
       "      <td>ff654802</td>\n",
       "      <td>ed10571d</td>\n",
       "    </tr>\n",
       "    <tr>\n",
       "      <th>3</th>\n",
       "      <td>0</td>\n",
       "      <td>NaN</td>\n",
       "      <td>24.0</td>\n",
       "      <td>NaN</td>\n",
       "      <td>11.0</td>\n",
       "      <td>24.0</td>\n",
       "      <td>NaN</td>\n",
       "      <td>0.0</td>\n",
       "      <td>56</td>\n",
       "      <td>3</td>\n",
       "      <td>...</td>\n",
       "      <td>1f7fc70b</td>\n",
       "      <td>a1eb1511</td>\n",
       "      <td>9512c20b</td>\n",
       "      <td>NaN</td>\n",
       "      <td>NaN</td>\n",
       "      <td>NaN</td>\n",
       "      <td>dc209cd3</td>\n",
       "      <td>b8a81fb0</td>\n",
       "      <td>30436bfc</td>\n",
       "      <td>b757e957</td>\n",
       "    </tr>\n",
       "    <tr>\n",
       "      <th>4</th>\n",
       "      <td>0</td>\n",
       "      <td>60.0</td>\n",
       "      <td>223.0</td>\n",
       "      <td>6.0</td>\n",
       "      <td>15.0</td>\n",
       "      <td>5.0</td>\n",
       "      <td>0.0</td>\n",
       "      <td>0.0</td>\n",
       "      <td>1</td>\n",
       "      <td>8</td>\n",
       "      <td>...</td>\n",
       "      <td>d20856aa</td>\n",
       "      <td>d9f758ff</td>\n",
       "      <td>9512c20b</td>\n",
       "      <td>c709ec07</td>\n",
       "      <td>2b07677e</td>\n",
       "      <td>a89a92a5</td>\n",
       "      <td>aa137169</td>\n",
       "      <td>e619743b</td>\n",
       "      <td>cdc3217e</td>\n",
       "      <td>ed10571d</td>\n",
       "    </tr>\n",
       "  </tbody>\n",
       "</table>\n",
       "<p>5 rows × 40 columns</p>\n",
       "</div>"
      ],
      "text/plain": [
       "   0     1      2    3      4     5    6    7   8   9   ...        30  \\\n",
       "0   1   5.0  110.0  NaN   16.0   NaN  1.0  0.0  14   7  ...  d20856aa   \n",
       "1   0  32.0    3.0  5.0    NaN   1.0  0.0  0.0  61   5  ...  d20856aa   \n",
       "2   0   NaN  233.0  1.0  146.0   1.0  0.0  0.0  99   7  ...  d20856aa   \n",
       "3   0   NaN   24.0  NaN   11.0  24.0  NaN  0.0  56   3  ...  1f7fc70b   \n",
       "4   0  60.0  223.0  6.0   15.0   5.0  0.0  0.0   1   8  ...  d20856aa   \n",
       "\n",
       "         31        32        33        34        35        36        37  \\\n",
       "0  b8170bba  9512c20b  c38e2f28  14f65a5d  25b1b089  d7c1fc0b  7caf609c   \n",
       "1  a1eb1511  9512c20b  febfd863  a3323ca1  c8e1ee56  1752e9e8  75350c8a   \n",
       "2  628f1b8d  9512c20b  c38e2f28  14f65a5d  25b1b089  d7c1fc0b  34a9b905   \n",
       "3  a1eb1511  9512c20b       NaN       NaN       NaN  dc209cd3  b8a81fb0   \n",
       "4  d9f758ff  9512c20b  c709ec07  2b07677e  a89a92a5  aa137169  e619743b   \n",
       "\n",
       "         38        39  \n",
       "0  30436bfc  ed10571d  \n",
       "1  991321ea  b757e957  \n",
       "2  ff654802  ed10571d  \n",
       "3  30436bfc  b757e957  \n",
       "4  cdc3217e  ed10571d  \n",
       "\n",
       "[5 rows x 40 columns]"
      ]
     },
     "execution_count": 3,
     "metadata": {},
     "output_type": "execute_result"
    }
   ],
   "source": [
    "day_df.head()"
   ]
  },
  {
   "cell_type": "code",
   "execution_count": 4,
   "id": "psychological-tribute",
   "metadata": {},
   "outputs": [],
   "source": [
    "day_df = day_df.iloc[:, -26:].astype(str)\n",
    "day_df.fillna('cccccc')\n",
    "drop_index = []"
   ]
  },
  {
   "cell_type": "code",
   "execution_count": 5,
   "id": "sudden-harris",
   "metadata": {},
   "outputs": [],
   "source": [
    "s = set()"
   ]
  },
  {
   "cell_type": "code",
   "execution_count": 6,
   "id": "sufficient-volleyball",
   "metadata": {},
   "outputs": [],
   "source": [
    "for index, row in day_df.iterrows():\n",
    "    data_str = '_'.join(list(row))\n",
    "    if  data_str not in s:\n",
    "        s.add(data_str)\n",
    "    else:\n",
    "        if random.random() > 0.9:\n",
    "            drop_index.append(index)"
   ]
  },
  {
   "cell_type": "code",
   "execution_count": 7,
   "id": "honest-berry",
   "metadata": {},
   "outputs": [
    {
     "data": {
      "text/plain": [
       "[16785,\n",
       " 36673,\n",
       " 47355,\n",
       " 49514,\n",
       " 50786,\n",
       " 52118,\n",
       " 56569,\n",
       " 64830,\n",
       " 71798,\n",
       " 76708,\n",
       " 82522,\n",
       " 82790,\n",
       " 83747,\n",
       " 86927,\n",
       " 88996,\n",
       " 91526,\n",
       " 97049,\n",
       " 99182,\n",
       " 99721]"
      ]
     },
     "execution_count": 7,
     "metadata": {},
     "output_type": "execute_result"
    }
   ],
   "source": [
    "drop_index"
   ]
  },
  {
   "cell_type": "code",
   "execution_count": 8,
   "id": "approximate-complex",
   "metadata": {},
   "outputs": [],
   "source": [
    "day_df = day_df.drop(drop_index, axis = 0)"
   ]
  },
  {
   "cell_type": "code",
   "execution_count": 9,
   "id": "orange-blanket",
   "metadata": {},
   "outputs": [
    {
     "data": {
      "text/plain": [
       "(99981, 26)"
      ]
     },
     "execution_count": 9,
     "metadata": {},
     "output_type": "execute_result"
    }
   ],
   "source": [
    "day_df.shape"
   ]
  }
 ],
 "metadata": {
  "kernelspec": {
   "display_name": "Python 3",
   "language": "python",
   "name": "python3"
  },
  "language_info": {
   "codemirror_mode": {
    "name": "ipython",
    "version": 3
   },
   "file_extension": ".py",
   "mimetype": "text/x-python",
   "name": "python",
   "nbconvert_exporter": "python",
   "pygments_lexer": "ipython3",
   "version": "3.8.3"
  }
 },
 "nbformat": 4,
 "nbformat_minor": 5
}
